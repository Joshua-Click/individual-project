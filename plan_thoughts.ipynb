{
 "cells": [
  {
   "cell_type": "markdown",
   "metadata": {},
   "source": [
    "### Dataset from https://archive.ics.uci.edu/dataset/891/cdc+diabetes+health+indicators \n",
    "\n"
   ]
  },
  {
   "cell_type": "markdown",
   "metadata": {},
   "source": [
    "Thoughts:\n",
    "* pulls one clean dataset on 2015 BRFSS data for diabetes\n",
    "* already has the target split from the original dataframe\n"
   ]
  },
  {
   "cell_type": "markdown",
   "metadata": {},
   "source": [
    "## Further Investigation\n"
   ]
  },
  {
   "cell_type": "markdown",
   "metadata": {},
   "source": [
    "Set came from https://www.kaggle.com/datasets/alexteboul/diabetes-health-indicators-dataset/data?select=diabetes_012_health_indicators_BRFSS2015.csv"
   ]
  },
  {
   "cell_type": "markdown",
   "metadata": {},
   "source": [
    "This person cleaned the BRFSS data from KAGGLE. \n",
    "* created 3 dataframes\n",
    "    * diabetes _ 012 _ health _ indicators _ BRFSS2015.csv is a clean dataset of 253,680 survey responses to the CDC's BRFSS2015. The target variable Diabetes_012 has 3 classes. 0 is for no diabetes or only during pregnancy, 1 is for prediabetes, and 2 is for diabetes. There is class imbalance in this dataset. This dataset has 21 feature variables\n",
    "        * Encoded for modeling already\n",
    "        * 3 variables for diabete cats\n",
    "            * 0 = NO DIABETES/ONLY DURING PREG\n",
    "            * 1 = PREDIABETIC\n",
    "            * 2 = IS DIABETIC\n",
    "        \n",
    "    * diabetes _ binary _ 5050split _ health _ indicators _ BRFSS2015.csv is a clean dataset of 70,692 survey responses to the CDC's BRFSS2015. It has an equal 50-50 split of respondents with no diabetes and with either prediabetes or diabetes. The target variable Diabetes_binary has 2 classes. 0 is for no diabetes, and 1 is for prediabetes or diabetes. This dataset has 21 feature variables and is balanced.\n",
    "        * Encoded for modeling already\n",
    "        * 2 vars for diabetic cat\n",
    "            * 0 = NO DIABETES\n",
    "            * 1 = PRE / IS DIABETIC\n",
    "        * 50% of rows are 0\n",
    "        * 50% of rows are 1\n",
    "\n",
    "    * diabetes _ binary _ health _ indicators _ BRFSS2015.csv is a clean dataset of 253,680 survey responses to the CDC's BRFSS2015. The target variable Diabetes_binary has 2 classes. 0 is for no diabetes, and 1 is for prediabetes or diabetes. This dataset has 21 feature variables and is not balanced.\n",
    "        * Encoded for modeling already\n",
    "        * 2 Vars for diabetic cat\n",
    "            * 0 = NO DIABETES\n",
    "            * 1 = PRE / IS DIABETIC"
   ]
  },
  {
   "cell_type": "markdown",
   "metadata": {},
   "source": [
    "# THE PLAN"
   ]
  },
  {
   "cell_type": "markdown",
   "metadata": {},
   "source": [
    "DONT USE SET FROM UCI IRVINE"
   ]
  },
  {
   "cell_type": "markdown",
   "metadata": {},
   "source": [
    "USE ALL 3 SETS FOR MODELING"
   ]
  },
  {
   "cell_type": "markdown",
   "metadata": {},
   "source": [
    "PREPARE IS ALREADY COMPLETE"
   ]
  },
  {
   "cell_type": "markdown",
   "metadata": {},
   "source": [
    "## EXPLORE"
   ]
  },
  {
   "cell_type": "markdown",
   "metadata": {},
   "source": [
    "* Visualize and stat test the categories to see which are the best features to model"
   ]
  },
  {
   "cell_type": "markdown",
   "metadata": {},
   "source": [
    "* Do this for all 3 sets"
   ]
  },
  {
   "cell_type": "markdown",
   "metadata": {},
   "source": [
    "## MODELING\n"
   ]
  },
  {
   "cell_type": "markdown",
   "metadata": {},
   "source": [
    "* CREATE 4 DIFFERENT MODELS FOR EACH DATASET"
   ]
  },
  {
   "cell_type": "markdown",
   "metadata": {},
   "source": [
    "* TAKE THE BEST FROM EACH DATASET AND COMPARE TO SEE WHICH PROCESS IS BEST AND THEN RUN THE TEST SETS"
   ]
  },
  {
   "cell_type": "code",
   "execution_count": null,
   "metadata": {
    "vscode": {
     "languageId": "plaintext"
    }
   },
   "outputs": [],
   "source": []
  },
  {
   "cell_type": "markdown",
   "metadata": {},
   "source": [
    "## TAKEAWAYS/RECOMMENDATIONS"
   ]
  },
  {
   "cell_type": "markdown",
   "metadata": {},
   "source": [
    "* HOPEFULLY SEE WHICH DATASET SETUP IS BEST FOR DETERMINING IF SOMEONE COULD BE DIABETIC OR NOT"
   ]
  },
  {
   "cell_type": "markdown",
   "metadata": {},
   "source": [
    "* STATE WHY ONES BETTER THAN THE OTHERS"
   ]
  },
  {
   "cell_type": "markdown",
   "metadata": {},
   "source": [
    "SKLEARN SMART RESAMPLING idea from madeliene"
   ]
  },
  {
   "cell_type": "markdown",
   "metadata": {},
   "source": []
  }
 ],
 "metadata": {
  "language_info": {
   "name": "python"
  },
  "orig_nbformat": 4
 },
 "nbformat": 4,
 "nbformat_minor": 2
}
